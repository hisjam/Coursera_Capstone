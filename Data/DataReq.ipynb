{
 "cells": [
  {
   "cell_type": "markdown",
   "metadata": {},
   "source": [
    "# DATA SECTION"
   ]
  },
  {
   "cell_type": "markdown",
   "metadata": {},
   "source": [
    "In order to answer the problem stated in introduction / business problem section, the only data I need is from Forsquare only.\n",
    "First I need to search in every neighborhood in Manhattan the number of Gym, and then I choose top three neighborhoods. \n",
    "\n",
    "Next step is to search, within the selected neighborhood, a housing complex or apartmenet to live. Then, for every housing complex / apartment in three selected neighborhood, I search which housing complex has a walking distance (below 300 meters) to Gym"
   ]
  },
  {
   "cell_type": "code",
   "execution_count": null,
   "metadata": {},
   "outputs": [],
   "source": []
  }
 ],
 "metadata": {
  "kernelspec": {
   "display_name": "Python 3",
   "language": "python",
   "name": "python3"
  },
  "language_info": {
   "codemirror_mode": {
    "name": "ipython",
    "version": 3
   },
   "file_extension": ".py",
   "mimetype": "text/x-python",
   "name": "python",
   "nbconvert_exporter": "python",
   "pygments_lexer": "ipython3",
   "version": "3.7.3"
  }
 },
 "nbformat": 4,
 "nbformat_minor": 2
}
