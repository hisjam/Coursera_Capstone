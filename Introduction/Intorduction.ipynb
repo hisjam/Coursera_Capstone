{
 "cells": [
  {
   "cell_type": "markdown",
   "metadata": {},
   "source": [
    "# INTRODUCTION / BUSINESS PROBLEM "
   ]
  },
  {
   "cell_type": "markdown",
   "metadata": {},
   "source": [
    "As a Muslim, I have an obligation to pray in Masjid / Mosque, so wherever I live the place should be near to Masjid.\n",
    "If I have to study in New York, where  I have to stay ? Which borough and which neighborhood ?"
   ]
  },
  {
   "cell_type": "markdown",
   "metadata": {},
   "source": [
    "What I need is a place to live, such as apartment or house within a walking distance from a Masjid. Walking distance is below 300 meters."
   ]
  },
  {
   "cell_type": "code",
   "execution_count": null,
   "metadata": {},
   "outputs": [],
   "source": []
  }
 ],
 "metadata": {
  "kernelspec": {
   "display_name": "Python 3",
   "language": "python",
   "name": "python3"
  },
  "language_info": {
   "codemirror_mode": {
    "name": "ipython",
    "version": 3
   },
   "file_extension": ".py",
   "mimetype": "text/x-python",
   "name": "python",
   "nbconvert_exporter": "python",
   "pygments_lexer": "ipython3",
   "version": "3.7.3"
  }
 },
 "nbformat": 4,
 "nbformat_minor": 2
}
